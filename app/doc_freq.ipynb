{
  "nbformat": 4,
  "nbformat_minor": 0,
  "metadata": {
    "colab": {
      "name": "predictive_text_editor.ipynb",
      "version": "0.3.2",
      "views": {},
      "default_view": {},
      "provenance": [],
      "collapsed_sections": []
    },
    "kernelspec": {
      "name": "python3",
      "display_name": "Python 3"
    },
    "accelerator": "GPU"
  },
  "cells": [
    {
      "metadata": {
        "id": "a2r6Pd77TPsP",
        "colab_type": "code",
        "colab": {
          "autoexec": {
            "startup": false,
            "wait_interval": 0
          },
          "base_uri": "https://localhost:8080/",
          "height": 2086
        },
        "outputId": "3012cff2-b116-4eaf-adf8-aeb6ab4ccce9",
        "executionInfo": {
          "status": "ok",
          "timestamp": 1519141555524,
          "user_tz": -330,
          "elapsed": 291608,
          "user": {
            "displayName": "sandesh patel",
            "photoUrl": "https://lh3.googleusercontent.com/a/default-user=s128",
            "userId": "107551629824370813341"
          }
        }
      },
      "cell_type": "code",
      "source": [
        "!pip install  textacy"
      ],
      "execution_count": 3,
      "outputs": [
        {
          "output_type": "stream",
          "text": [
            "Collecting textacy\n",
            "  Downloading textacy-0.5.0-py2.py3-none-any.whl (187kB)\n",
            "\u001b[K    100% |████████████████████████████████| 194kB 3.0MB/s \n",
            "\u001b[?25hCollecting python-levenshtein>=0.12.0 (from textacy)\n",
            "  Downloading python-Levenshtein-0.12.0.tar.gz (48kB)\n",
            "\u001b[K    100% |████████████████████████████████| 51kB 5.5MB/s \n",
            "\u001b[?25hCollecting ijson>=2.3 (from textacy)\n",
            "  Downloading ijson-2.3-py2.py3-none-any.whl\n",
            "Collecting pyphen>=0.9.4 (from textacy)\n",
            "  Downloading Pyphen-0.9.4-py2.py3-none-any.whl (1.9MB)\n",
            "\u001b[K    100% |████████████████████████████████| 2.0MB 738kB/s \n",
            "\u001b[?25hRequirement already satisfied: cachetools>=2.0.0 in /usr/local/lib/python3.6/dist-packages (from textacy)\n",
            "Collecting cytoolz>=0.8.0 (from textacy)\n",
            "  Downloading cytoolz-0.9.0.tar.gz (443kB)\n",
            "\u001b[K    100% |████████████████████████████████| 450kB 2.8MB/s \n",
            "\u001b[?25hRequirement already satisfied: requests>=2.10.0 in /usr/local/lib/python3.6/dist-packages (from textacy)\n",
            "Requirement already satisfied: numpy<2.0.0,>=1.9.0 in /usr/local/lib/python3.6/dist-packages (from textacy)\n",
            "Requirement already satisfied: scipy>=0.17.0 in /usr/local/lib/python3.6/dist-packages (from textacy)\n",
            "Collecting spacy>=2.0.0 (from textacy)\n",
            "  Downloading spacy-2.0.8.tar.gz (17.5MB)\n",
            "\u001b[K    100% |████████████████████████████████| 17.5MB 84kB/s \n",
            "\u001b[?25hRequirement already satisfied: scikit-learn>=0.17.0 in /usr/local/lib/python3.6/dist-packages (from textacy)\n",
            "Requirement already satisfied: networkx>=1.11 in /usr/local/lib/python3.6/dist-packages (from textacy)\n",
            "Collecting ftfy<5.0.0,>=4.2.0 (from textacy)\n",
            "  Downloading ftfy-4.4.3.tar.gz (50kB)\n",
            "\u001b[K    100% |████████████████████████████████| 51kB 7.7MB/s \n",
            "\u001b[?25hCollecting pyemd>=0.3.0 (from textacy)\n",
            "  Downloading pyemd-0.5.1.tar.gz (91kB)\n",
            "\u001b[K    100% |████████████████████████████████| 92kB 9.8MB/s \n",
            "\u001b[?25hCollecting tqdm>=4.11.1 (from textacy)\n",
            "  Downloading tqdm-4.19.5-py2.py3-none-any.whl (51kB)\n",
            "\u001b[K    100% |████████████████████████████████| 61kB 11.3MB/s \n",
            "\u001b[?25hCollecting unidecode>=0.04.19 (from textacy)\n",
            "  Downloading Unidecode-1.0.22-py2.py3-none-any.whl (235kB)\n",
            "\u001b[K    100% |████████████████████████████████| 235kB 5.8MB/s \n",
            "\u001b[?25hRequirement already satisfied: setuptools in /usr/lib/python3/dist-packages (from python-levenshtein>=0.12.0->textacy)\n",
            "Collecting toolz>=0.8.0 (from cytoolz>=0.8.0->textacy)\n",
            "  Downloading toolz-0.9.0.tar.gz (45kB)\n",
            "\u001b[K    100% |████████████████████████████████| 51kB 11.6MB/s \n",
            "\u001b[?25hRequirement already satisfied: certifi>=2017.4.17 in /usr/local/lib/python3.6/dist-packages (from requests>=2.10.0->textacy)\n",
            "Requirement already satisfied: idna<2.7,>=2.5 in /usr/local/lib/python3.6/dist-packages (from requests>=2.10.0->textacy)\n",
            "Requirement already satisfied: chardet<3.1.0,>=3.0.2 in /usr/local/lib/python3.6/dist-packages (from requests>=2.10.0->textacy)\n",
            "Requirement already satisfied: urllib3<1.23,>=1.21.1 in /usr/local/lib/python3.6/dist-packages (from requests>=2.10.0->textacy)\n",
            "Collecting cymem<1.32,>=1.30 (from spacy>=2.0.0->textacy)\n",
            "  Downloading cymem-1.31.2.tar.gz\n",
            "Requirement already satisfied: dill<0.3,>=0.2 in /usr/local/lib/python3.6/dist-packages (from spacy>=2.0.0->textacy)\n",
            "Collecting html5lib==1.0b8 (from spacy>=2.0.0->textacy)\n",
            "  Downloading html5lib-1.0b8.tar.gz (889kB)\n",
            "\u001b[K    100% |████████████████████████████████| 890kB 1.6MB/s \n",
            "\u001b[?25hCollecting msgpack-numpy==0.4.1 (from spacy>=2.0.0->textacy)\n",
            "  Downloading msgpack_numpy-0.4.1-py2.py3-none-any.whl\n",
            "Collecting msgpack-python (from spacy>=2.0.0->textacy)\n",
            "  Downloading msgpack-python-0.5.4.tar.gz\n",
            "Collecting murmurhash<0.29,>=0.28 (from spacy>=2.0.0->textacy)\n",
            "  Downloading murmurhash-0.28.0.tar.gz\n",
            "Collecting pathlib (from spacy>=2.0.0->textacy)\n"
          ],
          "name": "stdout"
        },
        {
          "output_type": "stream",
          "text": [
            "  Downloading pathlib-1.0.1.tar.gz (49kB)\r\n",
            "\u001b[K    100% |████████████████████████████████| 51kB 10.5MB/s \n",
            "\u001b[?25hCollecting plac<1.0.0,>=0.9.6 (from spacy>=2.0.0->textacy)\n",
            "  Downloading plac-0.9.6-py2.py3-none-any.whl\n",
            "Collecting preshed<2.0.0,>=1.0.0 (from spacy>=2.0.0->textacy)\n",
            "  Downloading preshed-1.0.0.tar.gz (89kB)\n",
            "\u001b[K    100% |████████████████████████████████| 92kB 5.0MB/s \n",
            "\u001b[?25hCollecting regex==2017.4.5 (from spacy>=2.0.0->textacy)\n",
            "  Downloading regex-2017.04.05.tar.gz (601kB)\n",
            "\u001b[K    100% |████████████████████████████████| 604kB 2.1MB/s \n",
            "\u001b[?25hRequirement already satisfied: six in /usr/local/lib/python3.6/dist-packages (from spacy>=2.0.0->textacy)\n",
            "Collecting thinc<6.11.0,>=6.10.1 (from spacy>=2.0.0->textacy)\n",
            "  Downloading thinc-6.10.2.tar.gz (1.2MB)\n",
            "\u001b[K    100% |████████████████████████████████| 1.2MB 1.1MB/s \n",
            "\u001b[?25hCollecting ujson>=1.35 (from spacy>=2.0.0->textacy)\n",
            "  Downloading ujson-1.35.tar.gz (192kB)\n",
            "\u001b[K    100% |████████████████████████████████| 194kB 6.6MB/s \n",
            "\u001b[?25hRequirement already satisfied: decorator>=4.1.0 in /usr/local/lib/python3.6/dist-packages (from networkx>=1.11->textacy)\n",
            "Requirement already satisfied: wcwidth in /usr/local/lib/python3.6/dist-packages (from ftfy<5.0.0,>=4.2.0->textacy)\n",
            "Requirement already satisfied: termcolor in /usr/local/lib/python3.6/dist-packages (from thinc<6.11.0,>=6.10.1->spacy>=2.0.0->textacy)\n",
            "Collecting wrapt (from thinc<6.11.0,>=6.10.1->spacy>=2.0.0->textacy)\n",
            "  Downloading wrapt-1.10.11.tar.gz\n",
            "Building wheels for collected packages: python-levenshtein, cytoolz, spacy, ftfy, pyemd, toolz, cymem, html5lib, msgpack-python, murmurhash, pathlib, preshed, regex, thinc, ujson, wrapt\n",
            "  Running setup.py bdist_wheel for python-levenshtein ... \u001b[?25l-\b \b\\\b \b|\b \bdone\n",
            "\u001b[?25h  Stored in directory: /content/.cache/pip/wheels/c0/83/e9/b2cc2876e175d04091caf4e9f5de564ff2503b1f1885e7c3ba\n",
            "  Running setup.py bdist_wheel for cytoolz ... \u001b[?25l-\b \b\\\b \b|\b \b/\b \b-\b \b\\\b \b|\b \b/\b \bdone\n",
            "\u001b[?25h  Stored in directory: /content/.cache/pip/wheels/b6/66/0c/9a3195246eb242483f1504e492b89f2c570c0ba6307c65373c\n",
            "  Running setup.py bdist_wheel for spacy ... \u001b[?25l-\b \b\\\b \b|\b \b/\b \b-\b \b\\\b \b|\b \b/\b \b-\b \b\\\b \b|\b \b/\b \b-\b \b\\\b \b|\b \b/\b \b-\b \b\\\b \b|\b \b/\b \b-\b \b\\\b \b|\b \b/\b \b-\b \b\\\b \b|\b \b/"
          ],
          "name": "stdout"
        },
        {
          "output_type": "stream",
          "text": [
            "\b \b-\b \b\\\b \b|\b \b/\b \b-\b \b\\\b \b|\b \b/\b \b-\b \b\\\b \b|\b \b/\b \b-\b \b\\\b \b|\b \b/\b \b-\b \b\\\b \b|\b \b/\b \b-\b \b\\\b \b|\b \b/\b \b-\b \b\\\b \b|\b \b/\b \b-\b \b\\\b \b|\b \b/\b \b-\b \b\\\b \b|\b \bdone\n",
            "\u001b[?25h  Stored in directory: /content/.cache/pip/wheels/24/ee/5f/6a5278c5e4868098ac02f669ab39af3bd6272780cbe00e97f5\n",
            "  Running setup.py bdist_wheel for ftfy ... \u001b[?25l-\b \bdone\n",
            "\u001b[?25h  Stored in directory: /content/.cache/pip/wheels/ae/d7/4c/339066248431397227741c7fdc80ad85826188ee9b0c24b4c7\n",
            "  Running setup.py bdist_wheel for pyemd ... \u001b[?25l-\b \b\\\b \b|\b \b/\b \b-\b \b\\\b \b|\b \bdone\n",
            "\u001b[?25h  Stored in directory: /content/.cache/pip/wheels/f2/1b/4b/e9edf2d2ff89c48be5184c5752e6d88f247bedcce2c57bf028\n",
            "  Running setup.py bdist_wheel for toolz ... \u001b[?25l-\b \bdone\n",
            "\u001b[?25h  Stored in directory: /content/.cache/pip/wheels/57/51/8a/433a9c0a2c65fc1b2a795ae036b932f3339a02e9ae88367659\n",
            "  Running setup.py bdist_wheel for cymem ... \u001b[?25l-\b \b\\\b \bdone\n",
            "\u001b[?25h  Stored in directory: /content/.cache/pip/wheels/4b/2a/0e/dce3ff7a6f0f916906ef978afe512a7b5aef8abfd9ba988acf\n",
            "  Running setup.py bdist_wheel for html5lib ... \u001b[?25l-\b \b\\\b \bdone\n",
            "\u001b[?25h  Stored in directory: /content/.cache/pip/wheels/d4/d1/0b/a6b6f9f204af55c9bb8c97eae2a78b690b7150a7b850bb9403\n",
            "  Running setup.py bdist_wheel for msgpack-python ... \u001b[?25l-\b \bdone\n",
            "\u001b[?25h  Stored in directory: /content/.cache/pip/wheels/49/fc/5d/07243edfc74536e0776f3f8901418e7596de0e3b887dd17d86\n",
            "  Running setup.py bdist_wheel for murmurhash ... \u001b[?25l-\b \b\\\b \b|\b \bdone\n",
            "\u001b[?25h  Stored in directory: /content/.cache/pip/wheels/67/30/e2/ef52a408eda4b23581669abfd1c1516a931d9e53f2e7616cb9\n",
            "  Running setup.py bdist_wheel for pathlib ... \u001b[?25l-\b \bdone\n",
            "\u001b[?25h  Stored in directory: /content/.cache/pip/wheels/2a/23/a5/d8803db5d631e9f391fe6defe982a238bf5483062eeb34e841\n",
            "  Running setup.py bdist_wheel for preshed ... \u001b[?25l-\b \b\\\b \b|\b \b/\b \b-\b \b\\\b \b|\b \bdone\n",
            "\u001b[?25h  Stored in directory: /content/.cache/pip/wheels/97/64/22/20fabf1f51039b799e64e46d0381b023cfdbe159c349d7c135\n",
            "  Running setup.py bdist_wheel for regex ... \u001b[?25l-\b \b\\\b \b|\b \b/\b \b-\b \b\\\b \b|\b \bdone\n",
            "\u001b[?25h  Stored in directory: /content/.cache/pip/wheels/28/20/68/c71f468f76d9bd81730a7633ace0ad30507cf99166314109a1\n",
            "  Running setup.py bdist_wheel for thinc ... \u001b[?25l-\b \b\\\b \b|\b \b/\b \b-\b \b\\\b \b|\b \b/\b \b-\b \b\\\b \b|\b \b/\b \b-\b \b\\\b \b|\b \b/\b \b-\b \b\\\b \b|"
          ],
          "name": "stdout"
        },
        {
          "output_type": "stream",
          "text": [
            "\b \b/\b \b-\b \b\\\b \b|\b \bdone\n",
            "\u001b[?25h  Stored in directory: /content/.cache/pip/wheels/f8/fc/92/3bb08540cc5ac05df781005e686273adcd97af91ca2c032154\n",
            "  Running setup.py bdist_wheel for ujson ... \u001b[?25l-\b \b\\\b \b|\b \b/\b \b-\b \bdone\n",
            "\u001b[?25h  Stored in directory: /content/.cache/pip/wheels/9e/9b/d0/df92653bb5b2664c15d8ee5b99e3f2eb08a034444db8922b2f\n",
            "  Running setup.py bdist_wheel for wrapt ... \u001b[?25l-\b \b\\\b \bdone\n",
            "\u001b[?25h  Stored in directory: /content/.cache/pip/wheels/56/e1/0f/f7ccf1ed8ceaabccc2a93ce0481f73e589814cbbc439291345\n",
            "Successfully built python-levenshtein cytoolz spacy ftfy pyemd toolz cymem html5lib msgpack-python murmurhash pathlib preshed regex thinc ujson wrapt\n",
            "Installing collected packages: python-levenshtein, ijson, pyphen, toolz, cytoolz, cymem, html5lib, ftfy, msgpack-python, msgpack-numpy, murmurhash, pathlib, plac, preshed, regex, tqdm, wrapt, thinc, ujson, spacy, pyemd, unidecode, textacy\n",
            "  Found existing installation: html5lib 0.9999999\n",
            "    Uninstalling html5lib-0.9999999:\n",
            "      Successfully uninstalled html5lib-0.9999999\n",
            "Successfully installed cymem-1.31.2 cytoolz-0.9.0 ftfy-4.4.3 html5lib-1.0b8 ijson-2.3 msgpack-numpy-0.4.1 msgpack-python-0.5.4 murmurhash-0.28.0 pathlib-1.0.1 plac-0.9.6 preshed-1.0.0 pyemd-0.5.1 pyphen-0.9.4 python-levenshtein-0.12.0 regex-2017.4.5 spacy-2.0.8 textacy-0.5.0 thinc-6.10.2 toolz-0.9.0 tqdm-4.19.5 ujson-1.35 unidecode-1.0.22 wrapt-1.10.11\n"
          ],
          "name": "stdout"
        }
      ]
    },
    {
      "metadata": {
        "id": "2-v9WnJat5-V",
        "colab_type": "code",
        "colab": {
          "autoexec": {
            "startup": false,
            "wait_interval": 0
          },
          "base_uri": "https://localhost:8080/",
          "height": 923
        },
        "outputId": "99a98c56-2536-43ba-d1f7-b6047db10bf5",
        "executionInfo": {
          "status": "ok",
          "timestamp": 1519141582605,
          "user_tz": -330,
          "elapsed": 26918,
          "user": {
            "displayName": "sandesh patel",
            "photoUrl": "https://lh3.googleusercontent.com/a/default-user=s128",
            "userId": "107551629824370813341"
          }
        }
      },
      "cell_type": "code",
      "source": [
        "!pip install --upgrade gensim"
      ],
      "execution_count": 4,
      "outputs": [
        {
          "output_type": "stream",
          "text": [
            "Collecting gensim\n",
            "  Downloading gensim-3.3.0-cp36-cp36m-manylinux1_x86_64.whl (22.5MB)\n",
            "\u001b[K    100% |████████████████████████████████| 22.5MB 62kB/s \n",
            "\u001b[?25hRequirement already up-to-date: six>=1.5.0 in /usr/local/lib/python3.6/dist-packages (from gensim)\n",
            "Requirement already up-to-date: numpy>=1.11.3 in /usr/local/lib/python3.6/dist-packages (from gensim)\n",
            "Collecting scipy>=0.18.1 (from gensim)\n",
            "  Downloading scipy-1.0.0-cp36-cp36m-manylinux1_x86_64.whl (50.0MB)\n",
            "\u001b[K    100% |████████████████████████████████| 50.0MB 28kB/s \n",
            "\u001b[?25hCollecting smart-open>=1.2.1 (from gensim)\n",
            "  Downloading smart_open-1.5.6.tar.gz\n",
            "Collecting boto3 (from smart-open>=1.2.1->gensim)\n",
            "  Downloading boto3-1.5.32-py2.py3-none-any.whl (128kB)\n",
            "\u001b[K    100% |████████████████████████████████| 133kB 6.3MB/s \n",
            "\u001b[?25hCollecting boto>=2.32 (from smart-open>=1.2.1->gensim)\n",
            "  Downloading boto-2.48.0-py2.py3-none-any.whl (1.4MB)\n",
            "\u001b[K    100% |████████████████████████████████| 1.4MB 1.0MB/s \n",
            "\u001b[?25hCollecting bz2file (from smart-open>=1.2.1->gensim)\n",
            "  Downloading bz2file-0.98.tar.gz\n",
            "Requirement already up-to-date: requests in /usr/local/lib/python3.6/dist-packages (from smart-open>=1.2.1->gensim)\n",
            "Collecting botocore<1.9.0,>=1.8.46 (from boto3->smart-open>=1.2.1->gensim)\n",
            "  Downloading botocore-1.8.46-py2.py3-none-any.whl (4.1MB)\n",
            "\u001b[K    100% |████████████████████████████████| 4.1MB 383kB/s \n",
            "\u001b[?25hCollecting jmespath<1.0.0,>=0.7.1 (from boto3->smart-open>=1.2.1->gensim)\n",
            "  Downloading jmespath-0.9.3-py2.py3-none-any.whl\n",
            "Collecting s3transfer<0.2.0,>=0.1.10 (from boto3->smart-open>=1.2.1->gensim)\n",
            "  Downloading s3transfer-0.1.13-py2.py3-none-any.whl (59kB)\n",
            "\u001b[K    100% |████████████████████████████████| 61kB 6.9MB/s \n",
            "\u001b[?25hRequirement already up-to-date: certifi>=2017.4.17 in /usr/local/lib/python3.6/dist-packages (from requests->smart-open>=1.2.1->gensim)\n",
            "Requirement already up-to-date: chardet<3.1.0,>=3.0.2 in /usr/local/lib/python3.6/dist-packages (from requests->smart-open>=1.2.1->gensim)\n",
            "Requirement already up-to-date: idna<2.7,>=2.5 in /usr/local/lib/python3.6/dist-packages (from requests->smart-open>=1.2.1->gensim)\n",
            "Requirement already up-to-date: urllib3<1.23,>=1.21.1 in /usr/local/lib/python3.6/dist-packages (from requests->smart-open>=1.2.1->gensim)\n",
            "Collecting python-dateutil<3.0.0,>=2.1 (from botocore<1.9.0,>=1.8.46->boto3->smart-open>=1.2.1->gensim)\n",
            "  Downloading python_dateutil-2.6.1-py2.py3-none-any.whl (194kB)\n",
            "\u001b[K    100% |████████████████████████████████| 194kB 5.8MB/s \n",
            "\u001b[?25hCollecting docutils>=0.10 (from botocore<1.9.0,>=1.8.46->boto3->smart-open>=1.2.1->gensim)\n",
            "  Downloading docutils-0.14-py3-none-any.whl (543kB)\n",
            "\u001b[K    100% |████████████████████████████████| 552kB 2.4MB/s \n",
            "\u001b[?25hBuilding wheels for collected packages: smart-open, bz2file\n",
            "  Running setup.py bdist_wheel for smart-open ... \u001b[?25l-\b \bdone\n",
            "\u001b[?25h  Stored in directory: /content/.cache/pip/wheels/36/48/35/97efc2bd1b233627131c9a936c9de23681846db707b907d353\n",
            "  Running setup.py bdist_wheel for bz2file ... \u001b[?25l-\b \bdone\n",
            "\u001b[?25h  Stored in directory: /content/.cache/pip/wheels/31/9c/20/996d65ca104cbca940b1b053299b68459391c01c774d073126\n",
            "Successfully built smart-open bz2file\n",
            "Installing collected packages: scipy, jmespath, python-dateutil, docutils, botocore, s3transfer, boto3, boto, bz2file, smart-open, gensim\n",
            "  Found existing installation: scipy 0.19.1\n",
            "    Uninstalling scipy-0.19.1:\n",
            "      Successfully uninstalled scipy-0.19.1\n",
            "  Found existing installation: python-dateutil 2.5.3\n",
            "    Uninstalling python-dateutil-2.5.3:\n",
            "      Successfully uninstalled python-dateutil-2.5.3\n",
            "Successfully installed boto-2.48.0 boto3-1.5.32 botocore-1.8.46 bz2file-0.98 docutils-0.14 gensim-3.3.0 jmespath-0.9.3 python-dateutil-2.6.1 s3transfer-0.1.13 scipy-1.0.0 smart-open-1.5.6\n"
          ],
          "name": "stdout"
        }
      ]
    },
    {
      "metadata": {
        "id": "-LWgyehLLJm6",
        "colab_type": "code",
        "colab": {
          "autoexec": {
            "startup": false,
            "wait_interval": 0
          }
        }
      },
      "cell_type": "code",
      "source": [
        "import re\n",
        "import os"
      ],
      "execution_count": 0,
      "outputs": []
    },
    {
      "metadata": {
        "id": "6-UO6nvOg9_N",
        "colab_type": "code",
        "colab": {
          "autoexec": {
            "startup": false,
            "wait_interval": 0
          },
          "base_uri": "https://localhost:8080/",
          "height": 208
        },
        "outputId": "878bbf35-c7c9-437f-cb9c-62077c3dbe26",
        "executionInfo": {
          "status": "ok",
          "timestamp": 1519141587149,
          "user_tz": -330,
          "elapsed": 2617,
          "user": {
            "displayName": "sandesh patel",
            "photoUrl": "https://lh3.googleusercontent.com/a/default-user=s128",
            "userId": "107551629824370813341"
          }
        }
      },
      "cell_type": "code",
      "source": [
        "!wget -c https://raw.githubusercontent.com/IlyaSemenov/wikipedia-word-frequency/master/results/enwiki-20150602-words-frequency.txt"
      ],
      "execution_count": 6,
      "outputs": [
        {
          "output_type": "stream",
          "text": [
            "--2018-02-20 15:46:24--  https://raw.githubusercontent.com/IlyaSemenov/wikipedia-word-frequency/master/results/enwiki-20150602-words-frequency.txt\r\n",
            "Resolving raw.githubusercontent.com (raw.githubusercontent.com)... 151.101.32.133\n",
            "Connecting to raw.githubusercontent.com (raw.githubusercontent.com)|151.101.32.133|:443... connected.\n",
            "HTTP request sent, awaiting response... 200 OK\n",
            "Length: 23741395 (23M) [text/plain]\n",
            "Saving to: ‘enwiki-20150602-words-frequency.txt’\n",
            "\n",
            "enwiki-20150602-wor 100%[===================>]  22.64M  26.1MB/s    in 0.9s    \n",
            "\n",
            "2018-02-20 15:46:26 (26.1 MB/s) - ‘enwiki-20150602-words-frequency.txt’ saved [23741395/23741395]\n",
            "\n"
          ],
          "name": "stdout"
        }
      ]
    },
    {
      "metadata": {
        "id": "fJ-_-TnshF7l",
        "colab_type": "code",
        "colab": {
          "autoexec": {
            "startup": false,
            "wait_interval": 0
          }
        }
      },
      "cell_type": "code",
      "source": [
        "!mv enwiki-20150602-words-frequency.txt word_freq.txt"
      ],
      "execution_count": 0,
      "outputs": []
    },
    {
      "metadata": {
        "id": "DSiTAe4khLtf",
        "colab_type": "code",
        "colab": {
          "autoexec": {
            "startup": false,
            "wait_interval": 0
          }
        }
      },
      "cell_type": "code",
      "source": [
        "df = dict()\n",
        "with open('word_freq.txt') as wf:\n",
        "  for line in wf:\n",
        "    df[line.split()[0]]=0\n",
        "      "
      ],
      "execution_count": 0,
      "outputs": []
    },
    {
      "metadata": {
        "id": "LB7EDOhSiebR",
        "colab_type": "code",
        "colab": {
          "autoexec": {
            "startup": false,
            "wait_interval": 0
          },
          "base_uri": "https://localhost:8080/",
          "height": 34
        },
        "outputId": "2df80890-fd18-4a02-9c2c-24a1b471e245",
        "executionInfo": {
          "status": "ok",
          "timestamp": 1519145952854,
          "user_tz": -330,
          "elapsed": 1371,
          "user": {
            "displayName": "sandesh patel",
            "photoUrl": "https://lh3.googleusercontent.com/a/default-user=s128",
            "userId": "107551629824370813341"
          }
        }
      },
      "cell_type": "code",
      "source": [
        "print(len(df))"
      ],
      "execution_count": 24,
      "outputs": [
        {
          "output_type": "stream",
          "text": [
            "1901124\n"
          ],
          "name": "stdout"
        }
      ]
    },
    {
      "metadata": {
        "id": "9m8oEZJ9Iupt",
        "colab_type": "code",
        "colab": {
          "autoexec": {
            "startup": false,
            "wait_interval": 0
          },
          "base_uri": "https://localhost:8080/",
          "height": 729
        },
        "outputId": "b4c9cdfc-4749-4452-88a1-f3d1cf1e37fb",
        "executionInfo": {
          "status": "ok",
          "timestamp": 1519141598834,
          "user_tz": -330,
          "elapsed": 4521,
          "user": {
            "displayName": "sandesh patel",
            "photoUrl": "https://lh3.googleusercontent.com/a/default-user=s128",
            "userId": "107551629824370813341"
          }
        }
      },
      "cell_type": "code",
      "source": [
        "!apt-get install -y transmission-cli\n"
      ],
      "execution_count": 10,
      "outputs": [
        {
          "output_type": "stream",
          "text": [
            "Reading package lists... Done\n",
            "Building dependency tree       \n",
            "Reading state information... Done\n",
            "The following additional packages will be installed:\n",
            "  libevent-2.1-6 libminiupnpc10 libnatpmp1 transmission-common\n",
            "Suggested packages:\n",
            "  minissdpd natpmp-utils transmission-daemon transmission-gtk\n",
            "The following NEW packages will be installed:\n",
            "  libevent-2.1-6 libminiupnpc10 libnatpmp1 transmission-cli\n",
            "  transmission-common\n",
            "0 upgraded, 5 newly installed, 0 to remove and 1 not upgraded.\n",
            "Need to get 808 kB of archives.\n",
            "After this operation, 3,977 kB of additional disk space will be used.\n",
            "Get:1 http://archive.ubuntu.com/ubuntu artful/main amd64 libevent-2.1-6 amd64 2.1.8-stable-4 [134 kB]\n",
            "Get:2 http://archive.ubuntu.com/ubuntu artful-updates/main amd64 libminiupnpc10 amd64 1.9.20140610-4ubuntu1.1 [24.1 kB]\n",
            "Get:3 http://archive.ubuntu.com/ubuntu artful/main amd64 libnatpmp1 amd64 20110808-4 [7,674 B]\n",
            "Get:4 http://archive.ubuntu.com/ubuntu artful-updates/main amd64 transmission-common all 2.92-2ubuntu3.1 [237 kB]\n",
            "Get:5 http://archive.ubuntu.com/ubuntu artful-updates/universe amd64 transmission-cli amd64 2.92-2ubuntu3.1 [405 kB]\n",
            "Fetched 808 kB in 0s (980 kB/s)\n",
            "Selecting previously unselected package libevent-2.1-6:amd64.\n",
            "(Reading database ... 16669 files and directories currently installed.)\n",
            "Preparing to unpack .../libevent-2.1-6_2.1.8-stable-4_amd64.deb ...\n",
            "Unpacking libevent-2.1-6:amd64 (2.1.8-stable-4) ...\n",
            "Selecting previously unselected package libminiupnpc10:amd64.\n",
            "Preparing to unpack .../libminiupnpc10_1.9.20140610-4ubuntu1.1_amd64.deb ...\n",
            "Unpacking libminiupnpc10:amd64 (1.9.20140610-4ubuntu1.1) ...\n",
            "Selecting previously unselected package libnatpmp1:amd64.\n",
            "Preparing to unpack .../libnatpmp1_20110808-4_amd64.deb ...\n",
            "Unpacking libnatpmp1:amd64 (20110808-4) ...\n",
            "Selecting previously unselected package transmission-common.\n",
            "Preparing to unpack .../transmission-common_2.92-2ubuntu3.1_all.deb ...\n",
            "Unpacking transmission-common (2.92-2ubuntu3.1) ...\n",
            "Selecting previously unselected package transmission-cli.\n",
            "Preparing to unpack .../transmission-cli_2.92-2ubuntu3.1_amd64.deb ...\n",
            "Unpacking transmission-cli (2.92-2ubuntu3.1) ...\n",
            "Setting up libevent-2.1-6:amd64 (2.1.8-stable-4) ...\n",
            "Setting up libminiupnpc10:amd64 (1.9.20140610-4ubuntu1.1) ...\n",
            "Setting up libnatpmp1:amd64 (20110808-4) ...\n",
            "Setting up transmission-common (2.92-2ubuntu3.1) ...\n",
            "Processing triggers for libc-bin (2.26-0ubuntu2.1) ...\n",
            "Setting up transmission-cli (2.92-2ubuntu3.1) ...\n"
          ],
          "name": "stdout"
        }
      ]
    },
    {
      "metadata": {
        "id": "j87F0jXNSlew",
        "colab_type": "code",
        "colab": {
          "autoexec": {
            "startup": false,
            "wait_interval": 0
          },
          "base_uri": "https://localhost:8080/",
          "height": 208
        },
        "outputId": "ddeea7e4-4a1a-47af-bde1-40570eea5026",
        "executionInfo": {
          "status": "ok",
          "timestamp": 1519141600557,
          "user_tz": -330,
          "elapsed": 1530,
          "user": {
            "displayName": "sandesh patel",
            "photoUrl": "https://lh3.googleusercontent.com/a/default-user=s128",
            "userId": "107551629824370813341"
          }
        }
      },
      "cell_type": "code",
      "source": [
        "!wget https://tools.wmflabs.org/dump-torrents/enwiki/20180120/enwiki-20180120-pages-articles-multistream.xml.bz2.torrent\n"
      ],
      "execution_count": 11,
      "outputs": [
        {
          "output_type": "stream",
          "text": [
            "--2018-02-20 15:46:39--  https://tools.wmflabs.org/dump-torrents/enwiki/20180120/enwiki-20180120-pages-articles-multistream.xml.bz2.torrent\n",
            "Resolving tools.wmflabs.org (tools.wmflabs.org)... 208.80.155.131\n",
            "Connecting to tools.wmflabs.org (tools.wmflabs.org)|208.80.155.131|:443... connected.\n",
            "HTTP request sent, awaiting response... 200 OK\n",
            "Length: 298871 (292K) [application/x-bittorrent]\n",
            "Saving to: ‘enwiki-20180120-pages-articles-multistream.xml.bz2.torrent’\n",
            "\n",
            "enwiki-20180120-pag 100%[===================>] 291.87K  --.-KB/s    in 0.04s   \n",
            "\n",
            "2018-02-20 15:46:39 (6.69 MB/s) - ‘enwiki-20180120-pages-articles-multistream.xml.bz2.torrent’ saved [298871/298871]\n",
            "\n"
          ],
          "name": "stdout"
        }
      ]
    },
    {
      "metadata": {
        "id": "E4Uic25STVQQ",
        "colab_type": "code",
        "colab": {
          "autoexec": {
            "startup": false,
            "wait_interval": 0
          }
        }
      },
      "cell_type": "code",
      "source": [
        "!mkdir Downloads"
      ],
      "execution_count": 0,
      "outputs": []
    },
    {
      "metadata": {
        "id": "GGFJTi6hTBTd",
        "colab_type": "code",
        "colab": {
          "autoexec": {
            "startup": false,
            "wait_interval": 0
          },
          "base_uri": "https://localhost:8080/",
          "height": 732
        },
        "outputId": "5bd635ae-6d4b-4ea5-916d-ace61a229341",
        "executionInfo": {
          "status": "ok",
          "timestamp": 1519141906304,
          "user_tz": -330,
          "elapsed": 304194,
          "user": {
            "displayName": "sandesh patel",
            "photoUrl": "https://lh3.googleusercontent.com/a/default-user=s128",
            "userId": "107551629824370813341"
          }
        }
      },
      "cell_type": "code",
      "source": [
        "!transmission-cli enwiki-20180120-pages-articles-multistream.xml.bz2.torrent -w Downloads/"
      ],
      "execution_count": 13,
      "outputs": [
        {
          "output_type": "stream",
          "text": [
            "transmission-cli 2.92 (14714)\n",
            "[2018-02-20 15:46:42.865] Transmission 2.92 (14714) started\n",
            "[2018-02-20 15:46:42.866] RPC Server: Adding address to whitelist: 127.0.0.1\n",
            "[2018-02-20 15:46:42.866] UDP: Failed to set receive buffer: requested 4194304, got 425984\n",
            "[2018-02-20 15:46:42.866] UDP: Please add the line \"net.core.rmem_max = 4194304\" to /etc/sysctl.conf\n",
            "[2018-02-20 15:46:42.866] UDP: Failed to set send buffer: requested 1048576, got 425984\n",
            "[2018-02-20 15:46:42.866] UDP: Please add the line \"net.core.wmem_max = 1048576\" to /etc/sysctl.conf\n",
            "[2018-02-20 15:46:42.866] DHT: Generating new id\n",
            "[2018-02-20 15:46:42.917] Saved \"/content/.config/transmission/torrents/enwiki-20180120-pages-articles-multistream.xml.bz2.fd809822dff28897.torrent\"\n",
            "[2018-02-20 15:46:42.917] enwiki-20180120-pages-articles-multistream.xml.bz2: Pausing\n",
            "[2018-02-20 15:46:42.917] Changed open file limit from 1048576 to 1024\n",
            "[2018-02-20 15:46:42.917] Saved \"/content/.config/transmission/resume/enwiki-20180120-pages-articles-multistream.xml.bz2.fd809822dff28897.resume\"\n",
            "[2018-02-20 15:46:42.917] enwiki-20180120-pages-articles-multistream.xml.bz2: Queued for verification\n",
            "[2018-02-20 15:46:42.918] enwiki-20180120-pages-articles-multistream.xml.bz2: Verifying torrent\n",
            "[2018-02-20 15:46:43.200] Port Forwarding (NAT-PMP): initnatpmp succeeded (0)\n",
            "[2018-02-20 15:46:43.200] Port Forwarding (NAT-PMP): sendpublicaddressrequest succeeded (2)\n",
            "Progress: 0.0%, dl from 0 of 0 peers (0 kB/s), ul to 0 (0 kB/s) [None]    [2018-02-20 15:46:51.208] Port Forwarding: State changed from \"Not forwarded\" to \"Starting\"\n",
            "Progress: 6.2%, dl from 0 of 0 peers (76.01 MB/s), ul to 0 (0 [2018-02-20 15:47:07.287] DHT: Attempting bootstrap from dht.transmissionbt.com\n",
            "Progress: 20.9%, dl from 0 of 0 [2018-02-20 15:47:45.390] enwiki-20180120-pages-articles-multistream.xml.bz2: Could not connect to tracker\n",
            "[2018-02-20 15:47:45.390] enwiki-20180120-pages-articles-multistream.xml.bz2: Retrying announce in 20 seconds.\n",
            "Progress: 26.5%, dl from 0 of 0 peers (78.04 MB/s), ul to 0 (0 kB/s) [0.00]   [2018-02-20 15:47:56.396] enwiki-20180120-pages-articles-multistream.xml.bz2: Scrape error: Connection failed\n",
            "[2018-02-20 15:47:56.396] enwiki-20180120-pages-articles-multistream.xml.bz2: Retrying scrape in 309 seconds.\n",
            "Progress: 50.1%, dl from 0 of 0 peers (78.33 MB/s), ul to 0 (0 kB/s) [0"
          ],
          "name": "stdout"
        },
        {
          "output_type": "stream",
          "text": [
            "Progres[2018-02-20 15:48:51.051] Port Forwarding: State changed from \"Starting\" to \"???\"\n",
            "Progress: 65.8%, dl from 0 of 0 peers (80.23 MB/s), ul to 0 (0 kB/s) [0.00] [2018-02-20 15:49:06.423] enwiki-20180120-pages-articles-multistream.xml.bz2: Connection failed\n",
            "[2018-02-20 15:49:06.424] enwiki-20180120-pages-articles-multistream.xml.bz2: Retrying announce in 927 seconds.\n",
            "Progress: 86.0%, dl from 0 of 0 peers (75.42 M[2018-02-20 15:49:45.002] enwiki-20180120-pages-articles-multistream.xml.bz2: Starting IPv4 DHT announce (poor, 10 nodes)\n",
            "Progress: 100.0%, dl from 0 of 0 peers (0 kB/s), ul to 0 (0 kB/s) [0.00]  [2018-02-20 15:50:16.893] enwiki-20180120-pages-articles-multistream.xml.bz2: State changed from \"Incomplete\" to \"Complete\"\n",
            "Seeding, uploading to 0 of[2018-02-20 15:51:18.901] enwiki-20180120-pages-articles-multistream.xml.bz2: Connection failed\n",
            "[2018-02-20 15:51:18.901] enwiki-20180120-pages-articles-multistream.xml.bz2: Retrying announce in 1823 seconds.\n",
            "Seeding, uploading to 0 of 0 pe^C\n",
            "er(s), 0 kB/s [0.00]                             \n",
            "Stopping torrent...\n",
            "[2018-02-20 15:51:44.993] enwiki-20180120-pages-articles-multistream.xml.bz2: Pausing\n",
            "[2018-02-20 15:51:44.996] Saved \"/content/.config/transmission/settings.json\"\n",
            "\n",
            "[2018-02-20 15:51:44.996] Saved \"/content/.config/transmission/resume/enwiki-20180120-pages-articles-multistream.xml.bz2.fd809822dff28897.resume\"\n",
            "[2018-02-20 15:51:44.997] DHT: Not saving nodes, DHT not ready\n",
            "[2018-02-20 15:51:44.997] Port Forwarding: Stopped\n",
            "[2018-02-20 15:51:44.997] enwiki-20180120-pages-articles-multistream.xml.bz2: Removing torrent\n",
            "[2018-02-20 15:51:44.997] enwiki-20180120-pages-articles-multistream.xml.bz2: Pausing\n"
          ],
          "name": "stdout"
        }
      ]
    },
    {
      "metadata": {
        "id": "uJYlAKmX4jBP",
        "colab_type": "code",
        "colab": {
          "autoexec": {
            "startup": false,
            "wait_interval": 0
          }
        }
      },
      "cell_type": "code",
      "source": [
        "from textacy.datasets.wikipedia import Wikipedia"
      ],
      "execution_count": 0,
      "outputs": []
    },
    {
      "metadata": {
        "id": "LTBCqNOY8P9A",
        "colab_type": "code",
        "colab": {
          "autoexec": {
            "startup": false,
            "wait_interval": 0
          }
        }
      },
      "cell_type": "code",
      "source": [
        "wp2 = Wikipedia(lang='en', version='20180120')"
      ],
      "execution_count": 0,
      "outputs": []
    },
    {
      "metadata": {
        "id": "juAsNHC-AxPJ",
        "colab_type": "code",
        "colab": {
          "autoexec": {
            "startup": false,
            "wait_interval": 0
          },
          "base_uri": "https://localhost:8080/",
          "height": 1558
        },
        "outputId": "f9d04fa2-20b3-46f2-ff6a-fbc72276e534",
        "executionInfo": {
          "status": "error",
          "timestamp": 1519141934234,
          "user_tz": -330,
          "elapsed": 11649,
          "user": {
            "displayName": "sandesh patel",
            "photoUrl": "https://lh3.googleusercontent.com/a/default-user=s128",
            "userId": "107551629824370813341"
          }
        }
      },
      "cell_type": "code",
      "source": [
        "wp2.download()\n",
        "#start and interrup execution"
      ],
      "execution_count": 16,
      "outputs": [
        {
          "output_type": "stream",
          "text": [
            "  0%|          | 22.1M/14.7G [00:10<1:57:09, 2.09MB/s]"
          ],
          "name": "stderr"
        },
        {
          "output_type": "error",
          "ename": "KeyboardInterrupt",
          "evalue": "ignored",
          "traceback": [
            "\u001b[0;31m---------------------------------------------------------------------------\u001b[0m",
            "\u001b[0;31mKeyboardInterrupt\u001b[0m                         Traceback (most recent call last)",
            "\u001b[0;32m<ipython-input-16-21cdbc5d6d4f>\u001b[0m in \u001b[0;36m<module>\u001b[0;34m()\u001b[0m\n\u001b[0;32m----> 1\u001b[0;31m \u001b[0mwp2\u001b[0m\u001b[0;34m.\u001b[0m\u001b[0mdownload\u001b[0m\u001b[0;34m(\u001b[0m\u001b[0;34m)\u001b[0m\u001b[0;34m\u001b[0m\u001b[0m\n\u001b[0m\u001b[1;32m      2\u001b[0m \u001b[0;31m#start and interrup execution\u001b[0m\u001b[0;34m\u001b[0m\u001b[0;34m\u001b[0m\u001b[0m\n",
            "\u001b[0;32m/usr/local/lib/python3.6/dist-packages/textacy/datasets/wikipedia.py\u001b[0m in \u001b[0;36mdownload\u001b[0;34m(self, force)\u001b[0m\n\u001b[1;32m    190\u001b[0m         fileio.write_streaming_download_file(\n\u001b[1;32m    191\u001b[0m             \u001b[0murl\u001b[0m\u001b[0;34m,\u001b[0m \u001b[0mfname\u001b[0m\u001b[0;34m,\u001b[0m \u001b[0mmode\u001b[0m\u001b[0;34m=\u001b[0m\u001b[0;34m'wb'\u001b[0m\u001b[0;34m,\u001b[0m \u001b[0mencoding\u001b[0m\u001b[0;34m=\u001b[0m\u001b[0;32mNone\u001b[0m\u001b[0;34m,\u001b[0m\u001b[0;34m\u001b[0m\u001b[0m\n\u001b[0;32m--> 192\u001b[0;31m             auto_make_dirs=True, chunk_size=1024)\n\u001b[0m\u001b[1;32m    193\u001b[0m \u001b[0;34m\u001b[0m\u001b[0m\n\u001b[1;32m    194\u001b[0m     \u001b[0;32mdef\u001b[0m \u001b[0m__iter__\u001b[0m\u001b[0;34m(\u001b[0m\u001b[0mself\u001b[0m\u001b[0;34m)\u001b[0m\u001b[0;34m:\u001b[0m\u001b[0;34m\u001b[0m\u001b[0m\n",
            "\u001b[0;32m/usr/local/lib/python3.6/dist-packages/textacy/fileio/write.py\u001b[0m in \u001b[0;36mwrite_streaming_download_file\u001b[0;34m(url, filepath, mode, encoding, auto_make_dirs, chunk_size)\u001b[0m\n\u001b[1;32m    224\u001b[0m             chunks = r.iter_content(\n\u001b[1;32m    225\u001b[0m                 chunk_size=chunk_size, decode_unicode=decode_unicode)\n\u001b[0;32m--> 226\u001b[0;31m             \u001b[0;32mfor\u001b[0m \u001b[0mchunk\u001b[0m \u001b[0;32min\u001b[0m \u001b[0mchunks\u001b[0m\u001b[0;34m:\u001b[0m\u001b[0;34m\u001b[0m\u001b[0m\n\u001b[0m\u001b[1;32m    227\u001b[0m                 \u001b[0;31m# needed (?) to filter out \"keep-alive\" new chunks\u001b[0m\u001b[0;34m\u001b[0m\u001b[0;34m\u001b[0m\u001b[0m\n\u001b[1;32m    228\u001b[0m                 \u001b[0;32mif\u001b[0m \u001b[0mchunk\u001b[0m\u001b[0;34m:\u001b[0m\u001b[0;34m\u001b[0m\u001b[0m\n",
            "\u001b[0;32m/usr/local/lib/python3.6/dist-packages/requests/models.py\u001b[0m in \u001b[0;36mgenerate\u001b[0;34m()\u001b[0m\n\u001b[1;32m    743\u001b[0m             \u001b[0;32mif\u001b[0m \u001b[0mhasattr\u001b[0m\u001b[0;34m(\u001b[0m\u001b[0mself\u001b[0m\u001b[0;34m.\u001b[0m\u001b[0mraw\u001b[0m\u001b[0;34m,\u001b[0m \u001b[0;34m'stream'\u001b[0m\u001b[0;34m)\u001b[0m\u001b[0;34m:\u001b[0m\u001b[0;34m\u001b[0m\u001b[0m\n\u001b[1;32m    744\u001b[0m                 \u001b[0;32mtry\u001b[0m\u001b[0;34m:\u001b[0m\u001b[0;34m\u001b[0m\u001b[0m\n\u001b[0;32m--> 745\u001b[0;31m                     \u001b[0;32mfor\u001b[0m \u001b[0mchunk\u001b[0m \u001b[0;32min\u001b[0m \u001b[0mself\u001b[0m\u001b[0;34m.\u001b[0m\u001b[0mraw\u001b[0m\u001b[0;34m.\u001b[0m\u001b[0mstream\u001b[0m\u001b[0;34m(\u001b[0m\u001b[0mchunk_size\u001b[0m\u001b[0;34m,\u001b[0m \u001b[0mdecode_content\u001b[0m\u001b[0;34m=\u001b[0m\u001b[0;32mTrue\u001b[0m\u001b[0;34m)\u001b[0m\u001b[0;34m:\u001b[0m\u001b[0;34m\u001b[0m\u001b[0m\n\u001b[0m\u001b[1;32m    746\u001b[0m                         \u001b[0;32myield\u001b[0m \u001b[0mchunk\u001b[0m\u001b[0;34m\u001b[0m\u001b[0m\n\u001b[1;32m    747\u001b[0m                 \u001b[0;32mexcept\u001b[0m \u001b[0mProtocolError\u001b[0m \u001b[0;32mas\u001b[0m \u001b[0me\u001b[0m\u001b[0;34m:\u001b[0m\u001b[0;34m\u001b[0m\u001b[0m\n",
            "\u001b[0;32m/usr/local/lib/python3.6/dist-packages/urllib3/response.py\u001b[0m in \u001b[0;36mstream\u001b[0;34m(self, amt, decode_content)\u001b[0m\n\u001b[1;32m    434\u001b[0m         \u001b[0;32melse\u001b[0m\u001b[0;34m:\u001b[0m\u001b[0;34m\u001b[0m\u001b[0m\n\u001b[1;32m    435\u001b[0m             \u001b[0;32mwhile\u001b[0m \u001b[0;32mnot\u001b[0m \u001b[0mis_fp_closed\u001b[0m\u001b[0;34m(\u001b[0m\u001b[0mself\u001b[0m\u001b[0;34m.\u001b[0m\u001b[0m_fp\u001b[0m\u001b[0;34m)\u001b[0m\u001b[0;34m:\u001b[0m\u001b[0;34m\u001b[0m\u001b[0m\n\u001b[0;32m--> 436\u001b[0;31m                 \u001b[0mdata\u001b[0m \u001b[0;34m=\u001b[0m \u001b[0mself\u001b[0m\u001b[0;34m.\u001b[0m\u001b[0mread\u001b[0m\u001b[0;34m(\u001b[0m\u001b[0mamt\u001b[0m\u001b[0;34m=\u001b[0m\u001b[0mamt\u001b[0m\u001b[0;34m,\u001b[0m \u001b[0mdecode_content\u001b[0m\u001b[0;34m=\u001b[0m\u001b[0mdecode_content\u001b[0m\u001b[0;34m)\u001b[0m\u001b[0;34m\u001b[0m\u001b[0m\n\u001b[0m\u001b[1;32m    437\u001b[0m \u001b[0;34m\u001b[0m\u001b[0m\n\u001b[1;32m    438\u001b[0m                 \u001b[0;32mif\u001b[0m \u001b[0mdata\u001b[0m\u001b[0;34m:\u001b[0m\u001b[0;34m\u001b[0m\u001b[0m\n",
            "\u001b[0;32m/usr/local/lib/python3.6/dist-packages/urllib3/response.py\u001b[0m in \u001b[0;36mread\u001b[0;34m(self, amt, decode_content, cache_content)\u001b[0m\n\u001b[1;32m    382\u001b[0m             \u001b[0;32melse\u001b[0m\u001b[0;34m:\u001b[0m\u001b[0;34m\u001b[0m\u001b[0m\n\u001b[1;32m    383\u001b[0m                 \u001b[0mcache_content\u001b[0m \u001b[0;34m=\u001b[0m \u001b[0;32mFalse\u001b[0m\u001b[0;34m\u001b[0m\u001b[0m\n\u001b[0;32m--> 384\u001b[0;31m                 \u001b[0mdata\u001b[0m \u001b[0;34m=\u001b[0m \u001b[0mself\u001b[0m\u001b[0;34m.\u001b[0m\u001b[0m_fp\u001b[0m\u001b[0;34m.\u001b[0m\u001b[0mread\u001b[0m\u001b[0;34m(\u001b[0m\u001b[0mamt\u001b[0m\u001b[0;34m)\u001b[0m\u001b[0;34m\u001b[0m\u001b[0m\n\u001b[0m\u001b[1;32m    385\u001b[0m                 \u001b[0;32mif\u001b[0m \u001b[0mamt\u001b[0m \u001b[0;34m!=\u001b[0m \u001b[0;36m0\u001b[0m \u001b[0;32mand\u001b[0m \u001b[0;32mnot\u001b[0m \u001b[0mdata\u001b[0m\u001b[0;34m:\u001b[0m  \u001b[0;31m# Platform-specific: Buggy versions of Python.\u001b[0m\u001b[0;34m\u001b[0m\u001b[0m\n\u001b[1;32m    386\u001b[0m                     \u001b[0;31m# Close the connection when no data is returned\u001b[0m\u001b[0;34m\u001b[0m\u001b[0;34m\u001b[0m\u001b[0m\n",
            "\u001b[0;32m/usr/lib/python3.6/http/client.py\u001b[0m in \u001b[0;36mread\u001b[0;34m(self, amt)\u001b[0m\n\u001b[1;32m    447\u001b[0m             \u001b[0;31m# Amount is given, implement using readinto\u001b[0m\u001b[0;34m\u001b[0m\u001b[0;34m\u001b[0m\u001b[0m\n\u001b[1;32m    448\u001b[0m             \u001b[0mb\u001b[0m \u001b[0;34m=\u001b[0m \u001b[0mbytearray\u001b[0m\u001b[0;34m(\u001b[0m\u001b[0mamt\u001b[0m\u001b[0;34m)\u001b[0m\u001b[0;34m\u001b[0m\u001b[0m\n\u001b[0;32m--> 449\u001b[0;31m             \u001b[0mn\u001b[0m \u001b[0;34m=\u001b[0m \u001b[0mself\u001b[0m\u001b[0;34m.\u001b[0m\u001b[0mreadinto\u001b[0m\u001b[0;34m(\u001b[0m\u001b[0mb\u001b[0m\u001b[0;34m)\u001b[0m\u001b[0;34m\u001b[0m\u001b[0m\n\u001b[0m\u001b[1;32m    450\u001b[0m             \u001b[0;32mreturn\u001b[0m \u001b[0mmemoryview\u001b[0m\u001b[0;34m(\u001b[0m\u001b[0mb\u001b[0m\u001b[0;34m)\u001b[0m\u001b[0;34m[\u001b[0m\u001b[0;34m:\u001b[0m\u001b[0mn\u001b[0m\u001b[0;34m]\u001b[0m\u001b[0;34m.\u001b[0m\u001b[0mtobytes\u001b[0m\u001b[0;34m(\u001b[0m\u001b[0;34m)\u001b[0m\u001b[0;34m\u001b[0m\u001b[0m\n\u001b[1;32m    451\u001b[0m         \u001b[0;32melse\u001b[0m\u001b[0;34m:\u001b[0m\u001b[0;34m\u001b[0m\u001b[0m\n",
            "\u001b[0;32m/usr/lib/python3.6/http/client.py\u001b[0m in \u001b[0;36mreadinto\u001b[0;34m(self, b)\u001b[0m\n\u001b[1;32m    491\u001b[0m         \u001b[0;31m# connection, and the user is reading more bytes than will be provided\u001b[0m\u001b[0;34m\u001b[0m\u001b[0;34m\u001b[0m\u001b[0m\n\u001b[1;32m    492\u001b[0m         \u001b[0;31m# (for example, reading in 1k chunks)\u001b[0m\u001b[0;34m\u001b[0m\u001b[0;34m\u001b[0m\u001b[0m\n\u001b[0;32m--> 493\u001b[0;31m         \u001b[0mn\u001b[0m \u001b[0;34m=\u001b[0m \u001b[0mself\u001b[0m\u001b[0;34m.\u001b[0m\u001b[0mfp\u001b[0m\u001b[0;34m.\u001b[0m\u001b[0mreadinto\u001b[0m\u001b[0;34m(\u001b[0m\u001b[0mb\u001b[0m\u001b[0;34m)\u001b[0m\u001b[0;34m\u001b[0m\u001b[0m\n\u001b[0m\u001b[1;32m    494\u001b[0m         \u001b[0;32mif\u001b[0m \u001b[0;32mnot\u001b[0m \u001b[0mn\u001b[0m \u001b[0;32mand\u001b[0m \u001b[0mb\u001b[0m\u001b[0;34m:\u001b[0m\u001b[0;34m\u001b[0m\u001b[0m\n\u001b[1;32m    495\u001b[0m             \u001b[0;31m# Ideally, we would raise IncompleteRead if the content-length\u001b[0m\u001b[0;34m\u001b[0m\u001b[0;34m\u001b[0m\u001b[0m\n",
            "\u001b[0;32m/usr/lib/python3.6/socket.py\u001b[0m in \u001b[0;36mreadinto\u001b[0;34m(self, b)\u001b[0m\n\u001b[1;32m    584\u001b[0m         \u001b[0;32mwhile\u001b[0m \u001b[0;32mTrue\u001b[0m\u001b[0;34m:\u001b[0m\u001b[0;34m\u001b[0m\u001b[0m\n\u001b[1;32m    585\u001b[0m             \u001b[0;32mtry\u001b[0m\u001b[0;34m:\u001b[0m\u001b[0;34m\u001b[0m\u001b[0m\n\u001b[0;32m--> 586\u001b[0;31m                 \u001b[0;32mreturn\u001b[0m \u001b[0mself\u001b[0m\u001b[0;34m.\u001b[0m\u001b[0m_sock\u001b[0m\u001b[0;34m.\u001b[0m\u001b[0mrecv_into\u001b[0m\u001b[0;34m(\u001b[0m\u001b[0mb\u001b[0m\u001b[0;34m)\u001b[0m\u001b[0;34m\u001b[0m\u001b[0m\n\u001b[0m\u001b[1;32m    587\u001b[0m             \u001b[0;32mexcept\u001b[0m \u001b[0mtimeout\u001b[0m\u001b[0;34m:\u001b[0m\u001b[0;34m\u001b[0m\u001b[0m\n\u001b[1;32m    588\u001b[0m                 \u001b[0mself\u001b[0m\u001b[0;34m.\u001b[0m\u001b[0m_timeout_occurred\u001b[0m \u001b[0;34m=\u001b[0m \u001b[0;32mTrue\u001b[0m\u001b[0;34m\u001b[0m\u001b[0m\n",
            "\u001b[0;32m/usr/lib/python3.6/ssl.py\u001b[0m in \u001b[0;36mrecv_into\u001b[0;34m(self, buffer, nbytes, flags)\u001b[0m\n\u001b[1;32m   1007\u001b[0m                   \u001b[0;34m\"non-zero flags not allowed in calls to recv_into() on %s\"\u001b[0m \u001b[0;34m%\u001b[0m\u001b[0;34m\u001b[0m\u001b[0m\n\u001b[1;32m   1008\u001b[0m                   self.__class__)\n\u001b[0;32m-> 1009\u001b[0;31m             \u001b[0;32mreturn\u001b[0m \u001b[0mself\u001b[0m\u001b[0;34m.\u001b[0m\u001b[0mread\u001b[0m\u001b[0;34m(\u001b[0m\u001b[0mnbytes\u001b[0m\u001b[0;34m,\u001b[0m \u001b[0mbuffer\u001b[0m\u001b[0;34m)\u001b[0m\u001b[0;34m\u001b[0m\u001b[0m\n\u001b[0m\u001b[1;32m   1010\u001b[0m         \u001b[0;32melse\u001b[0m\u001b[0;34m:\u001b[0m\u001b[0;34m\u001b[0m\u001b[0m\n\u001b[1;32m   1011\u001b[0m             \u001b[0;32mreturn\u001b[0m \u001b[0msocket\u001b[0m\u001b[0;34m.\u001b[0m\u001b[0mrecv_into\u001b[0m\u001b[0;34m(\u001b[0m\u001b[0mself\u001b[0m\u001b[0;34m,\u001b[0m \u001b[0mbuffer\u001b[0m\u001b[0;34m,\u001b[0m \u001b[0mnbytes\u001b[0m\u001b[0;34m,\u001b[0m \u001b[0mflags\u001b[0m\u001b[0;34m)\u001b[0m\u001b[0;34m\u001b[0m\u001b[0m\n",
            "\u001b[0;32m/usr/lib/python3.6/ssl.py\u001b[0m in \u001b[0;36mread\u001b[0;34m(self, len, buffer)\u001b[0m\n\u001b[1;32m    869\u001b[0m             \u001b[0;32mraise\u001b[0m \u001b[0mValueError\u001b[0m\u001b[0;34m(\u001b[0m\u001b[0;34m\"Read on closed or unwrapped SSL socket.\"\u001b[0m\u001b[0;34m)\u001b[0m\u001b[0;34m\u001b[0m\u001b[0m\n\u001b[1;32m    870\u001b[0m         \u001b[0;32mtry\u001b[0m\u001b[0;34m:\u001b[0m\u001b[0;34m\u001b[0m\u001b[0m\n\u001b[0;32m--> 871\u001b[0;31m             \u001b[0;32mreturn\u001b[0m \u001b[0mself\u001b[0m\u001b[0;34m.\u001b[0m\u001b[0m_sslobj\u001b[0m\u001b[0;34m.\u001b[0m\u001b[0mread\u001b[0m\u001b[0;34m(\u001b[0m\u001b[0mlen\u001b[0m\u001b[0;34m,\u001b[0m \u001b[0mbuffer\u001b[0m\u001b[0;34m)\u001b[0m\u001b[0;34m\u001b[0m\u001b[0m\n\u001b[0m\u001b[1;32m    872\u001b[0m         \u001b[0;32mexcept\u001b[0m \u001b[0mSSLError\u001b[0m \u001b[0;32mas\u001b[0m \u001b[0mx\u001b[0m\u001b[0;34m:\u001b[0m\u001b[0;34m\u001b[0m\u001b[0m\n\u001b[1;32m    873\u001b[0m             \u001b[0;32mif\u001b[0m \u001b[0mx\u001b[0m\u001b[0;34m.\u001b[0m\u001b[0margs\u001b[0m\u001b[0;34m[\u001b[0m\u001b[0;36m0\u001b[0m\u001b[0;34m]\u001b[0m \u001b[0;34m==\u001b[0m \u001b[0mSSL_ERROR_EOF\u001b[0m \u001b[0;32mand\u001b[0m \u001b[0mself\u001b[0m\u001b[0;34m.\u001b[0m\u001b[0msuppress_ragged_eofs\u001b[0m\u001b[0;34m:\u001b[0m\u001b[0;34m\u001b[0m\u001b[0m\n",
            "\u001b[0;32m/usr/lib/python3.6/ssl.py\u001b[0m in \u001b[0;36mread\u001b[0;34m(self, len, buffer)\u001b[0m\n\u001b[1;32m    629\u001b[0m         \"\"\"\n\u001b[1;32m    630\u001b[0m         \u001b[0;32mif\u001b[0m \u001b[0mbuffer\u001b[0m \u001b[0;32mis\u001b[0m \u001b[0;32mnot\u001b[0m \u001b[0;32mNone\u001b[0m\u001b[0;34m:\u001b[0m\u001b[0;34m\u001b[0m\u001b[0m\n\u001b[0;32m--> 631\u001b[0;31m             \u001b[0mv\u001b[0m \u001b[0;34m=\u001b[0m \u001b[0mself\u001b[0m\u001b[0;34m.\u001b[0m\u001b[0m_sslobj\u001b[0m\u001b[0;34m.\u001b[0m\u001b[0mread\u001b[0m\u001b[0;34m(\u001b[0m\u001b[0mlen\u001b[0m\u001b[0;34m,\u001b[0m \u001b[0mbuffer\u001b[0m\u001b[0;34m)\u001b[0m\u001b[0;34m\u001b[0m\u001b[0m\n\u001b[0m\u001b[1;32m    632\u001b[0m         \u001b[0;32melse\u001b[0m\u001b[0;34m:\u001b[0m\u001b[0;34m\u001b[0m\u001b[0m\n\u001b[1;32m    633\u001b[0m             \u001b[0mv\u001b[0m \u001b[0;34m=\u001b[0m \u001b[0mself\u001b[0m\u001b[0;34m.\u001b[0m\u001b[0m_sslobj\u001b[0m\u001b[0;34m.\u001b[0m\u001b[0mread\u001b[0m\u001b[0;34m(\u001b[0m\u001b[0mlen\u001b[0m\u001b[0;34m)\u001b[0m\u001b[0;34m\u001b[0m\u001b[0m\n",
            "\u001b[0;31mKeyboardInterrupt\u001b[0m: "
          ]
        }
      ]
    },
    {
      "metadata": {
        "id": "HAhc3HfM_DK9",
        "colab_type": "code",
        "colab": {
          "autoexec": {
            "startup": false,
            "wait_interval": 0
          },
          "base_uri": "https://localhost:8080/",
          "height": 233
        },
        "outputId": "d2392292-95ba-48d2-b351-2a712ccf3e7a",
        "executionInfo": {
          "status": "ok",
          "timestamp": 1519145981720,
          "user_tz": -330,
          "elapsed": 995,
          "user": {
            "displayName": "sandesh patel",
            "photoUrl": "https://lh3.googleusercontent.com/a/default-user=s128",
            "userId": "107551629824370813341"
          }
        }
      },
      "cell_type": "code",
      "source": [
        "wp2.info\n"
      ],
      "execution_count": 27,
      "outputs": [
        {
          "output_type": "execute_result",
          "data": {
            "text/plain": [
              "{'data_dir': '/usr/local/lib/python3.6/dist-packages/textacy/data/wikipedia',\n",
              " 'description': 'All articles for a given language- and version-specific Wikipedia site snapshot.',\n",
              " 'name': 'wikipedia',\n",
              " 'site_url': 'https://meta.wikimedia.org/wiki/Data_dumps'}"
            ]
          },
          "metadata": {
            "tags": []
          },
          "execution_count": 27
        }
      ]
    },
    {
      "metadata": {
        "id": "e8BnOZbpA5Xj",
        "colab_type": "code",
        "colab": {
          "autoexec": {
            "startup": false,
            "wait_interval": 0
          },
          "base_uri": "https://localhost:8080/",
          "height": 34
        },
        "outputId": "707bea38-10d8-40db-d58d-e27fa23e4f75",
        "executionInfo": {
          "status": "ok",
          "timestamp": 1519141949460,
          "user_tz": -330,
          "elapsed": 1359,
          "user": {
            "displayName": "sandesh patel",
            "photoUrl": "https://lh3.googleusercontent.com/a/default-user=s128",
            "userId": "107551629824370813341"
          }
        }
      },
      "cell_type": "code",
      "source": [
        "ls /usr/local/lib/python3.6/dist-packages/textacy/data/wikipedia/enwiki/20180120/enwiki-20180120-pages-articles.xml.bz2"
      ],
      "execution_count": 18,
      "outputs": [
        {
          "output_type": "stream",
          "text": [
            "/usr/local/lib/python3.6/dist-packages/textacy/data/wikipedia/enwiki/20180120/enwiki-20180120-pages-articles.xml.bz2\r\n"
          ],
          "name": "stdout"
        }
      ]
    },
    {
      "metadata": {
        "id": "K9xfEUO_A7ol",
        "colab_type": "code",
        "colab": {
          "autoexec": {
            "startup": false,
            "wait_interval": 0
          }
        }
      },
      "cell_type": "code",
      "source": [
        "!mv Downloads/enwiki-20180120-pages-articles-multistream.xml.bz2 /usr/local/lib/python3.6/dist-packages/textacy/data/wikipedia/enwiki/20180120/enwiki-20180120-pages-articles.xml.bz2"
      ],
      "execution_count": 0,
      "outputs": []
    },
    {
      "metadata": {
        "id": "Lo5D1fn_BNsA",
        "colab_type": "code",
        "colab": {
          "autoexec": {
            "startup": false,
            "wait_interval": 0
          },
          "base_uri": "https://localhost:8080/",
          "height": 10127
        },
        "outputId": "6fce1763-caf9-4bc5-fe5b-87233fc81a97",
        "executionInfo": {
          "status": "error",
          "timestamp": 1519174303757,
          "user_tz": -330,
          "elapsed": 28298043,
          "user": {
            "displayName": "sandesh patel",
            "photoUrl": "https://lh3.googleusercontent.com/a/default-user=s128",
            "userId": "107551629824370813341"
          }
        }
      },
      "cell_type": "code",
      "source": [
        "import pickle\n",
        "i = 0\n",
        "for vec in wp2.texts(min_len = 50, limit=-1):\n",
        "  words = set(vec.split())\n",
        "  for word in words:\n",
        "    if word in df:\n",
        "      df[word] +=1\n",
        "  if i%20000 == 0:\n",
        "    print(i)\n",
        "  if i%200000 ==0:\n",
        "    with open('%d_doc_freq.pickle' %i, 'wb') as handle:\n",
        "      pickle.dump(df, handle, protocol=pickle.HIGHEST_PROTOCOL)\n",
        "  i+=1"
      ],
      "execution_count": 28,
      "outputs": [
        {
          "output_type": "stream",
          "text": [
            "0\n",
            "20000\n",
            "40000\n",
            "60000\n",
            "80000\n",
            "100000\n",
            "120000\n",
            "140000\n",
            "160000\n",
            "180000\n",
            "200000\n",
            "220000\n",
            "240000\n",
            "260000\n",
            "280000\n",
            "300000\n",
            "320000\n",
            "340000\n",
            "360000\n",
            "380000\n",
            "400000\n",
            "420000\n",
            "440000\n",
            "460000\n",
            "480000\n",
            "500000\n",
            "520000\n",
            "540000\n",
            "560000\n",
            "580000\n",
            "600000\n",
            "620000\n",
            "640000\n",
            "660000\n",
            "680000\n",
            "700000\n",
            "720000\n",
            "740000\n",
            "760000\n",
            "780000\n",
            "800000\n",
            "820000\n",
            "840000\n",
            "860000\n",
            "880000\n",
            "900000\n",
            "920000\n",
            "940000\n",
            "960000\n",
            "980000\n",
            "1000000\n",
            "1020000\n",
            "1040000\n",
            "1060000\n",
            "1080000\n",
            "1100000\n",
            "1120000\n",
            "1140000\n",
            "1160000\n",
            "1180000\n",
            "1200000\n",
            "1220000\n",
            "1240000\n",
            "1260000\n",
            "1280000\n",
            "1300000\n",
            "1320000\n",
            "1340000\n",
            "1360000\n",
            "1380000\n",
            "1400000\n",
            "1420000\n",
            "1440000\n",
            "1460000\n",
            "1480000\n",
            "1500000\n",
            "1520000\n",
            "1540000\n",
            "1560000\n",
            "1580000\n",
            "1600000\n",
            "1620000\n",
            "1640000\n",
            "1660000\n",
            "1680000\n",
            "1700000\n",
            "1720000\n",
            "1740000\n",
            "1760000\n",
            "1780000\n",
            "1800000\n",
            "1820000\n",
            "1840000\n",
            "1860000\n",
            "1880000\n",
            "1900000\n",
            "1920000\n",
            "1940000\n",
            "1960000\n",
            "1980000\n",
            "2000000\n",
            "2020000\n",
            "2040000\n",
            "2060000\n",
            "2080000\n",
            "2100000\n",
            "2120000\n",
            "2140000\n",
            "2160000\n",
            "2180000\n",
            "2200000\n",
            "2220000\n",
            "2240000\n",
            "2260000\n",
            "2280000\n",
            "2300000\n",
            "2320000\n",
            "2340000\n",
            "2360000\n",
            "2380000\n",
            "2400000\n",
            "2420000\n",
            "2440000\n",
            "2460000\n",
            "2480000\n",
            "2500000\n",
            "2520000\n",
            "2540000\n",
            "2560000\n",
            "2580000\n",
            "2600000\n",
            "2620000\n",
            "2640000\n",
            "2660000\n",
            "2680000\n",
            "2700000\n",
            "2720000\n",
            "2740000\n",
            "2760000\n",
            "2780000\n",
            "2800000\n",
            "2820000\n",
            "2840000\n",
            "2860000\n",
            "2880000\n",
            "2900000\n",
            "2920000\n",
            "2940000\n",
            "2960000\n",
            "2980000\n",
            "3000000\n",
            "3020000\n",
            "3040000\n",
            "3060000\n",
            "3080000\n",
            "3100000\n",
            "3120000\n",
            "3140000\n",
            "3160000\n",
            "3180000\n",
            "3200000\n",
            "3220000\n",
            "3240000\n",
            "3260000\n"
          ],
          "name": "stdout"
        },
        {
          "output_type": "stream",
          "text": [
            "3280000\n",
            "3300000\n",
            "3320000\n",
            "3340000\n",
            "3360000\n",
            "3380000\n",
            "3400000\n",
            "3420000\n",
            "3440000\n",
            "3460000\n",
            "3480000\n",
            "3500000\n",
            "3520000\n",
            "3540000\n",
            "3560000\n",
            "3580000\n",
            "3600000\n"
          ],
          "name": "stdout"
        },
        {
          "output_type": "error",
          "ename": "KeyboardInterrupt",
          "evalue": "ignored",
          "traceback": [
            "\u001b[0;31m---------------------------------------------------------------------------\u001b[0m",
            "\u001b[0;31mKeyboardInterrupt\u001b[0m                         Traceback (most recent call last)",
            "\u001b[0;32m<ipython-input-28-f00076eedd31>\u001b[0m in \u001b[0;36m<module>\u001b[0;34m()\u001b[0m\n\u001b[1;32m      1\u001b[0m \u001b[0;32mimport\u001b[0m \u001b[0mpickle\u001b[0m\u001b[0;34m\u001b[0m\u001b[0m\n\u001b[1;32m      2\u001b[0m \u001b[0mi\u001b[0m \u001b[0;34m=\u001b[0m \u001b[0;36m0\u001b[0m\u001b[0;34m\u001b[0m\u001b[0m\n\u001b[0;32m----> 3\u001b[0;31m \u001b[0;32mfor\u001b[0m \u001b[0mvec\u001b[0m \u001b[0;32min\u001b[0m \u001b[0mwp2\u001b[0m\u001b[0;34m.\u001b[0m\u001b[0mtexts\u001b[0m\u001b[0;34m(\u001b[0m\u001b[0mmin_len\u001b[0m \u001b[0;34m=\u001b[0m \u001b[0;36m50\u001b[0m\u001b[0;34m,\u001b[0m \u001b[0mlimit\u001b[0m\u001b[0;34m=\u001b[0m\u001b[0;34m-\u001b[0m\u001b[0;36m1\u001b[0m\u001b[0;34m)\u001b[0m\u001b[0;34m:\u001b[0m\u001b[0;34m\u001b[0m\u001b[0m\n\u001b[0m\u001b[1;32m      4\u001b[0m   \u001b[0mwords\u001b[0m \u001b[0;34m=\u001b[0m \u001b[0mset\u001b[0m\u001b[0;34m(\u001b[0m\u001b[0mvec\u001b[0m\u001b[0;34m.\u001b[0m\u001b[0msplit\u001b[0m\u001b[0;34m(\u001b[0m\u001b[0;34m)\u001b[0m\u001b[0;34m)\u001b[0m\u001b[0;34m\u001b[0m\u001b[0m\n\u001b[1;32m      5\u001b[0m   \u001b[0;32mfor\u001b[0m \u001b[0mword\u001b[0m \u001b[0;32min\u001b[0m \u001b[0mwords\u001b[0m\u001b[0;34m:\u001b[0m\u001b[0;34m\u001b[0m\u001b[0m\n",
            "\u001b[0;32m/usr/local/lib/python3.6/dist-packages/textacy/datasets/wikipedia.py\u001b[0m in \u001b[0;36mtexts\u001b[0;34m(self, min_len, limit)\u001b[0m\n\u001b[1;32m    325\u001b[0m         \u001b[0mn_pages\u001b[0m \u001b[0;34m=\u001b[0m \u001b[0;36m0\u001b[0m\u001b[0;34m\u001b[0m\u001b[0m\n\u001b[1;32m    326\u001b[0m         \u001b[0;32mfor\u001b[0m \u001b[0m_\u001b[0m\u001b[0;34m,\u001b[0m \u001b[0mtitle\u001b[0m\u001b[0;34m,\u001b[0m \u001b[0mcontent\u001b[0m \u001b[0;32min\u001b[0m \u001b[0mself\u001b[0m\u001b[0;34m:\u001b[0m\u001b[0;34m\u001b[0m\u001b[0m\n\u001b[0;32m--> 327\u001b[0;31m             \u001b[0mtext\u001b[0m \u001b[0;34m=\u001b[0m \u001b[0mstrip_markup\u001b[0m\u001b[0;34m(\u001b[0m\u001b[0mcontent\u001b[0m\u001b[0;34m)\u001b[0m\u001b[0;34m\u001b[0m\u001b[0m\n\u001b[0m\u001b[1;32m    328\u001b[0m             \u001b[0;32mif\u001b[0m \u001b[0mlen\u001b[0m\u001b[0;34m(\u001b[0m\u001b[0mtext\u001b[0m\u001b[0;34m)\u001b[0m \u001b[0;34m<\u001b[0m \u001b[0mmin_len\u001b[0m\u001b[0;34m:\u001b[0m\u001b[0;34m\u001b[0m\u001b[0m\n\u001b[1;32m    329\u001b[0m                 \u001b[0;32mcontinue\u001b[0m\u001b[0;34m\u001b[0m\u001b[0m\n",
            "\u001b[0;32m/usr/local/lib/python3.6/dist-packages/textacy/datasets/wikipedia.py\u001b[0m in \u001b[0;36mstrip_markup\u001b[0;34m(wikitext)\u001b[0m\n\u001b[1;32m    401\u001b[0m     \u001b[0;31m# remove irrelevant spans\u001b[0m\u001b[0;34m\u001b[0m\u001b[0;34m\u001b[0m\u001b[0m\n\u001b[1;32m    402\u001b[0m     \u001b[0mtext\u001b[0m \u001b[0;34m=\u001b[0m \u001b[0mre_comments\u001b[0m\u001b[0;34m.\u001b[0m\u001b[0msub\u001b[0m\u001b[0;34m(\u001b[0m\u001b[0;34m''\u001b[0m\u001b[0;34m,\u001b[0m \u001b[0mtext\u001b[0m\u001b[0;34m)\u001b[0m\u001b[0;34m\u001b[0m\u001b[0m\n\u001b[0;32m--> 403\u001b[0;31m     \u001b[0mtext\u001b[0m \u001b[0;34m=\u001b[0m \u001b[0mre_ignored_html_tags\u001b[0m\u001b[0;34m.\u001b[0m\u001b[0msub\u001b[0m\u001b[0;34m(\u001b[0m\u001b[0;34mr'\\2'\u001b[0m\u001b[0;34m,\u001b[0m \u001b[0mtext\u001b[0m\u001b[0;34m)\u001b[0m\u001b[0;34m\u001b[0m\u001b[0m\n\u001b[0m\u001b[1;32m    404\u001b[0m     \u001b[0mtext\u001b[0m \u001b[0;34m=\u001b[0m \u001b[0mre_self_closing_html_tags\u001b[0m\u001b[0;34m.\u001b[0m\u001b[0msub\u001b[0m\u001b[0;34m(\u001b[0m\u001b[0;34m''\u001b[0m\u001b[0;34m,\u001b[0m \u001b[0mtext\u001b[0m\u001b[0;34m)\u001b[0m\u001b[0;34m\u001b[0m\u001b[0m\n\u001b[1;32m    405\u001b[0m     \u001b[0mtext\u001b[0m \u001b[0;34m=\u001b[0m \u001b[0mre_dropped_elements\u001b[0m\u001b[0;34m.\u001b[0m\u001b[0msub\u001b[0m\u001b[0;34m(\u001b[0m\u001b[0;34m''\u001b[0m\u001b[0;34m,\u001b[0m \u001b[0mtext\u001b[0m\u001b[0;34m)\u001b[0m\u001b[0;34m\u001b[0m\u001b[0m\n",
            "\u001b[0;31mKeyboardInterrupt\u001b[0m: "
          ]
        }
      ]
    },
    {
      "metadata": {
        "id": "zTGMqrDX9vxi",
        "colab_type": "code",
        "colab": {
          "autoexec": {
            "startup": false,
            "wait_interval": 0
          },
          "base_uri": "https://localhost:8080/",
          "height": 34
        },
        "outputId": "421eb584-56f2-4a9d-8dc7-5385e9c53195",
        "executionInfo": {
          "status": "ok",
          "timestamp": 1519174337509,
          "user_tz": -330,
          "elapsed": 1521,
          "user": {
            "displayName": "sandesh patel",
            "photoUrl": "https://lh3.googleusercontent.com/a/default-user=s128",
            "userId": "107551629824370813341"
          }
        }
      },
      "cell_type": "code",
      "source": [
        "# i 3603106"
      ],
      "execution_count": 29,
      "outputs": [
        {
          "output_type": "stream",
          "text": [
            "3603106\n"
          ],
          "name": "stdout"
        }
      ]
    },
    {
      "metadata": {
        "id": "H1B45M4rDIey",
        "colab_type": "code",
        "colab": {
          "autoexec": {
            "startup": false,
            "wait_interval": 0
          },
          "base_uri": "https://localhost:8080/",
          "height": 572
        },
        "outputId": "a48b5318-8233-439b-aa09-fbeffd2fd31d",
        "executionInfo": {
          "status": "error",
          "timestamp": 1519006344661,
          "user_tz": -330,
          "elapsed": 1468,
          "user": {
            "displayName": "sandesh patel",
            "photoUrl": "https://lh3.googleusercontent.com/a/default-user=s128",
            "userId": "107551629824370813341"
          }
        }
      },
      "cell_type": "code",
      "source": [
        "import pickle\n",
        "with open('doc_freq.pickle', 'wb') as handle:\n",
        "    pickle.dump(df, handle, protocol=pickle.HIGHEST_PROTOCOL)\n",
        "\n",
        "#with open('filename.pickle', 'rb') as handle:\n",
        "    #b = pickle.load(handle)\n",
        "\n",
        "#print a == b"
      ],
      "execution_count": 1,
      "outputs": [
        {
          "output_type": "error",
          "ename": "NameError",
          "evalue": "ignored",
          "traceback": [
            "\u001b[0;31m---------------------------------------------------------------------------\u001b[0m",
            "\u001b[0;31mNameError\u001b[0m                                 Traceback (most recent call last)",
            "\u001b[0;32m<ipython-input-1-9c49cc5352be>\u001b[0m in \u001b[0;36m<module>\u001b[0;34m()\u001b[0m\n\u001b[1;32m      1\u001b[0m \u001b[0;32mimport\u001b[0m \u001b[0mpickle\u001b[0m\u001b[0;34m\u001b[0m\u001b[0m\n\u001b[1;32m      2\u001b[0m \u001b[0;32mwith\u001b[0m \u001b[0mopen\u001b[0m\u001b[0;34m(\u001b[0m\u001b[0;34m'doc_freq.pickle'\u001b[0m\u001b[0;34m,\u001b[0m \u001b[0;34m'wb'\u001b[0m\u001b[0;34m)\u001b[0m \u001b[0;32mas\u001b[0m \u001b[0mhandle\u001b[0m\u001b[0;34m:\u001b[0m\u001b[0;34m\u001b[0m\u001b[0m\n\u001b[0;32m----> 3\u001b[0;31m     \u001b[0mpickle\u001b[0m\u001b[0;34m.\u001b[0m\u001b[0mdump\u001b[0m\u001b[0;34m(\u001b[0m\u001b[0mdf\u001b[0m\u001b[0;34m,\u001b[0m \u001b[0mhandle\u001b[0m\u001b[0;34m,\u001b[0m \u001b[0mprotocol\u001b[0m\u001b[0;34m=\u001b[0m\u001b[0mpickle\u001b[0m\u001b[0;34m.\u001b[0m\u001b[0mHIGHEST_PROTOCOL\u001b[0m\u001b[0;34m)\u001b[0m\u001b[0;34m\u001b[0m\u001b[0m\n\u001b[0m\u001b[1;32m      4\u001b[0m \u001b[0;34m\u001b[0m\u001b[0m\n\u001b[1;32m      5\u001b[0m \u001b[0;31m#with open('filename.pickle', 'rb') as handle:\u001b[0m\u001b[0;34m\u001b[0m\u001b[0;34m\u001b[0m\u001b[0m\n",
            "\u001b[0;31mNameError\u001b[0m: name 'df' is not defined"
          ]
        }
      ]
    },
    {
      "metadata": {
        "id": "GXvkS7IqNgB4",
        "colab_type": "code",
        "colab": {
          "autoexec": {
            "startup": false,
            "wait_interval": 0
          }
        }
      },
      "cell_type": "code",
      "source": [
        "with open(\"doc_freq.txt\", 'w') as dff:\n",
        "  for word, count in df.items():\n",
        "    dff.write(word + str(count) + '\\n')\n",
        "  "
      ],
      "execution_count": 0,
      "outputs": []
    },
    {
      "metadata": {
        "id": "86bI0-MAOSDW",
        "colab_type": "code",
        "colab": {
          "autoexec": {
            "startup": false,
            "wait_interval": 0
          }
        }
      },
      "cell_type": "code",
      "source": [
        "from google.colab import files\n",
        "files.download('doc_freq.txt')\n",
        "files.download('doc_freq.pickle')"
      ],
      "execution_count": 0,
      "outputs": []
    },
    {
      "metadata": {
        "id": "BHzXb9XQUCO9",
        "colab_type": "code",
        "colab": {
          "autoexec": {
            "startup": false,
            "wait_interval": 0
          }
        }
      },
      "cell_type": "code",
      "source": [
        "files.download('doc_freq.pickle')"
      ],
      "execution_count": 0,
      "outputs": []
    }
  ]
}